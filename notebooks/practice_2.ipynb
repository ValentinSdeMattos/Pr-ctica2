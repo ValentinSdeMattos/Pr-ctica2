{
 "cells": [
  {
   "cell_type": "markdown",
   "metadata": {
    "collapsed": false
   },
   "source": [
    "# Práctica 2\n",
    "\n",
    "Para esta tarea, veremos los datos de vacunas de 2017. El archivo con estos datos está en `/data/NISPUF17.csv`. Para conocer los nombres de las variables de los datos tienes disponible una guía de usuarios de datos en `/data/NIS-PUF17-DUG.pdf`."
   ]
  },
  {
   "cell_type": "markdown",
   "metadata": {
    "collapsed": false
   },
   "source": [
    "## Pregunta 1\n",
    "\n",
    "Escribe una función llamada `proportion_of_education` que devuelva la proporción de niños en el dataset que tuvieron una madre con los niveles de educación: igual a menor de secundaria (<12), secundaria (12), mayor que secundaria pero sin ser universitaria graduada (>12) y con título universitario.\n",
    "\n",
    "Esta función debería devolver un diccionario en forma de (use los números correctos, no redondee los números):\n",
    "\n",
    "```python\n",
    "{\"menor que  secundaria\": 0.2,\n",
    " \"secundaria\": 0.4,\n",
    " \"mayor a secundaria pero no universitaria\": 0.2,\n",
    " \"universitaria\": 0.2}\n",
    "```\n"
   ]
  },
  {
   "cell_type": "code",
   "execution_count": 1,
   "metadata": {
    "ExecuteTime": {
     "end_time": "2023-05-21T22:00:42.430893575Z",
     "start_time": "2023-05-21T22:00:42.382088417Z"
    },
    "collapsed": false
   },
   "outputs": [
    {
     "data": {
      "text/plain": [
       "{'menor que secundaria': np.float64(0.10202002459160373),\n",
       " 'secundaria': np.float64(0.172352011241876),\n",
       " 'mayor a secundaria pero no universitaria': np.float64(0.24588090637625154),\n",
       " 'universitaria': np.float64(0.47974705779026877)}"
      ]
     },
     "execution_count": 1,
     "metadata": {},
     "output_type": "execute_result"
    }
   ],
   "source": [
    "import pandas as pd\n",
    "\n",
    "def proportion_of_education():\n",
    "    df = pd.read_csv(r'C:\\Users\\User\\OneDrive\\Escritorio\\Facultad\\Programación\\Analisis de datos\\Practica 2\\Pr-ctica2\\data\\NISPUF17.csv')\n",
    "\n",
    "    education_counts = df['EDUC1'].value_counts(normalize=True)\n",
    "    \n",
    "    education_proportions = {\n",
    "        \"menor que secundaria\": education_counts.get(1, 0),\n",
    "        \"secundaria\": education_counts.get(2, 0),\n",
    "        \"mayor a secundaria pero no universitaria\": education_counts.get(3, 0),\n",
    "        \"universitaria\": education_counts.get(4, 0)\n",
    "    }\n",
    "    \n",
    "    return education_proportions\n",
    "\n",
    "proportion_of_education()\n"
   ]
  },
  {
   "cell_type": "markdown",
   "metadata": {
    "collapsed": false
   },
   "source": [
    "## Pregunta 2\n",
    "\n",
    "Exploremos la relación entre ser alimentado con leche materna (fed breast milk) cuando era niño y recibir una vacuna contra la influenza estacional (seasonal influenza) de un proveedor de atención médica.\n",
    "\n",
    "Devuelva una tupla del número promedio de vacunas contra la influenza para aquellos niños que sabemos que recibieron leche materna cuando eran niños y aquellos que sabemos que no."
   ]
  },
  {
   "cell_type": "code",
   "execution_count": 2,
   "metadata": {
    "collapsed": false
   },
   "outputs": [
    {
     "data": {
      "text/plain": [
       "'breastfed: 1.8799187420058687, not_breastfed: 1.5963945918878317'"
      ]
     },
     "execution_count": 2,
     "metadata": {},
     "output_type": "execute_result"
    }
   ],
   "source": [
    "def average_influenza_doses():\n",
    "    # Cargar el dataset\n",
    "    df = pd.read_csv(r'C:\\Users\\User\\OneDrive\\Escritorio\\Facultad\\Programación\\Analisis de datos\\Practica 2\\Pr-ctica2\\data\\NISPUF17.csv')\n",
    "\n",
    "    \n",
    "    # Filtrar datos para aquellos que recibieron y no recibieron leche materna\n",
    "    breastfed = df[df['CBF_01'] == 1]\n",
    "    not_breastfed = df[df['CBF_01'] == 2]\n",
    "    \n",
    "    # Calcular el promedio de dosis de influenza\n",
    "    avg_breastfed = breastfed['P_NUMFLU'].mean()\n",
    "    avg_not_breastfed = not_breastfed['P_NUMFLU'].mean()\n",
    "    \n",
    "    return f\"breastfed: {avg_breastfed}, not_breastfed: {avg_not_breastfed}\"\n",
    "\n",
    "average_influenza_doses()"
   ]
  },
  {
   "cell_type": "markdown",
   "metadata": {
    "collapsed": false
   },
   "source": [
    "# Pregunta 3\n",
    "\n",
    "Sería interesante ver si hay evidencia de un vínculo entre la efectividad de la vacuna y el sexo del niño.\n",
    "Calcule el ratio entre el número de niños que contrajeron varicela (chickenpox) pero que fueron vacunados contra ella (al menos una dosis) versus los que fueron vacunados y no contrajeron varicela.\n",
    "\n",
    "Devuelve los resultados por sexo.\n",
    "\n",
    "Esta función debería devolver un diccionario en forma de:\n",
    "\n",
    "```python\n",
    "{\"male\": 0.2, \"female\": 0.4}\n",
    "```\n",
    "\n",
    "Nota: Para ayudar en la verificación, el valor de chickenpox_by_sex()['female'] comienza con los dígitos 0.0077."
   ]
  },
  {
   "cell_type": "code",
   "execution_count": 3,
   "metadata": {
    "collapsed": false
   },
   "outputs": [
    {
     "data": {
      "text/plain": [
       "{'male': 0.009675583380762664, 'female': 0.0077918259335489565}"
      ]
     },
     "execution_count": 3,
     "metadata": {},
     "output_type": "execute_result"
    }
   ],
   "source": [
    "def chickenpox_by_sex():\n",
    "    df = pd.read_csv(r'C:\\Users\\User\\OneDrive\\Escritorio\\Facultad\\Programación\\Analisis de datos\\Practica 2\\Pr-ctica2\\data\\NISPUF17.csv')\n",
    "\n",
    "    vaccinated = df[df['P_NUMVRC'] >= 1]\n",
    "\n",
    "    chickenpox_vaccinated = vaccinated[vaccinated['HAD_CPOX'] == 1]\n",
    "    no_chickenpox_vaccinated = vaccinated[vaccinated['HAD_CPOX'] == 2]\n",
    "\n",
    "    male_ratio = len(chickenpox_vaccinated[chickenpox_vaccinated['SEX'] == 1]) / len(no_chickenpox_vaccinated[no_chickenpox_vaccinated['SEX'] == 1])\n",
    "    female_ratio = len(chickenpox_vaccinated[chickenpox_vaccinated['SEX'] == 2]) / len(no_chickenpox_vaccinated[no_chickenpox_vaccinated['SEX'] == 2])\n",
    "    \n",
    "    return {\"male\": male_ratio, \"female\": female_ratio}\n",
    "\n",
    "chickenpox_by_sex()\n"
   ]
  },
  {
   "cell_type": "code",
   "execution_count": 4,
   "metadata": {
    "collapsed": false
   },
   "outputs": [],
   "source": []
  }
 ],
 "metadata": {
  "kernelspec": {
   "display_name": "Python 3",
   "language": "python",
   "name": "python3"
  },
  "language_info": {
   "codemirror_mode": {
    "name": "ipython",
    "version": 3
   },
   "file_extension": ".py",
   "mimetype": "text/x-python",
   "name": "python",
   "nbconvert_exporter": "python",
   "pygments_lexer": "ipython3",
   "version": "3.12.3"
  }
 },
 "nbformat": 4,
 "nbformat_minor": 0
}
